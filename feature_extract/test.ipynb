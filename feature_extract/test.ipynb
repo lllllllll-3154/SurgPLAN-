{
 "cells": [
  {
   "cell_type": "code",
   "execution_count": 1,
   "metadata": {},
   "outputs": [],
   "source": [
    "import torch"
   ]
  },
  {
   "cell_type": "code",
   "execution_count": 3,
   "metadata": {},
   "outputs": [],
   "source": [
    "from configs.custom_config import load_config\n",
    "from slowfast.utils.misc import launch_job\n",
    "from slowfast.utils.parser import parse_args\n",
    "import numpy as np\n",
    "import torch\n",
    "import os\n",
    "import time\n",
    "from tqdm import tqdm\n",
    "import av\n",
    "from moviepy.video.io.VideoFileClip import VideoFileClip\n",
    "\n",
    "import slowfast.utils.checkpoint as cu\n",
    "import slowfast.utils.distributed as du\n",
    "import slowfast.utils.logging as logging\n",
    "import slowfast.utils.misc as misc\n",
    "\n",
    "from models import build_model\n",
    "from datasets.extract_dataset import VideoSet\n",
    "\n",
    "\n"
   ]
  },
  {
   "cell_type": "code",
   "execution_count": 6,
   "metadata": {},
   "outputs": [],
   "source": [
    "def build_model(cfg):\n",
    "    \"\"\"\n",
    "    Builds the video model.\n",
    "    The original function has been customized to load the feature extractor models with overwritten forward functions\n",
    "    Args:\n",
    "        cfg (configs): configs that contains the hyper-parameters to build the\n",
    "        backbone. Details can be seen in slowfast/config/defaults.py.\n",
    "    \"\"\"\n",
    "    if torch.cuda.is_available():\n",
    "        assert (\n",
    "            cfg.NUM_GPUS <= torch.cuda.device_count()\n",
    "        ), \"Cannot use more GPU devices than available\"\n",
    "    else:\n",
    "        assert (\n",
    "            cfg.NUM_GPUS == 0\n",
    "        ), \"Cuda is not available. Please set `NUM_GPUS: 0 for running on CPUs.\"\n",
    "\n",
    "    # Construct the model\n",
    "    name = cfg.MODEL.MODEL_NAME\n",
    "    # model = MODEL_REGISTRY.get(name)(cfg)\n",
    "\n",
    "    # load feature extractor models\n",
    "    width_per_group = cfg.RESNET.WIDTH_PER_GROUP\n",
    "    pool_size = _POOL1[cfg.MODEL.ARCH]\n",
    "    if name == \"SlowFast\":\n",
    "        model = SlowFastFeat(cfg)\n",
    "        model.head = ResNetBasicHead(\n",
    "            dim_in=[\n",
    "                width_per_group * 32,\n",
    "                width_per_group * 32 // cfg.SLOWFAST.BETA_INV,\n",
    "            ],\n",
    "            num_classes=cfg.MODEL.NUM_CLASSES,\n",
    "            pool_size=[None, None]\n",
    "            if cfg.MULTIGRID.SHORT_CYCLE\n",
    "            else [\n",
    "                [\n",
    "                    cfg.DATA.NUM_FRAMES // cfg.SLOWFAST.ALPHA // pool_size[0][0],\n",
    "                    cfg.DATA.TEST_CROP_SIZE // 32 // pool_size[0][1],\n",
    "                    cfg.DATA.TEST_CROP_SIZE // 32 // pool_size[0][2],\n",
    "                ],\n",
    "                [\n",
    "                    cfg.DATA.NUM_FRAMES // pool_size[1][0],\n",
    "                    cfg.DATA.TEST_CROP_SIZE // 32 // pool_size[1][1],\n",
    "                    cfg.DATA.TEST_CROP_SIZE // 32 // pool_size[1][2],\n",
    "                ],\n",
    "            ],  # None for AdaptiveAvgPool3d((1, 1, 1))\n",
    "            dropout_rate=cfg.MODEL.DROPOUT_RATE,\n",
    "            act_func=cfg.MODEL.HEAD_ACT,\n",
    "            cfg=cfg\n",
    "        )\n",
    "    elif name == \"ResNet\":\n",
    "        model = ResNetFeat(cfg)\n",
    "        model.head = ResNetBasicHead(\n",
    "            dim_in=[width_per_group * 32],\n",
    "            num_classes=cfg.MODEL.NUM_CLASSES,\n",
    "            pool_size=[None, None]\n",
    "            if cfg.MULTIGRID.SHORT_CYCLE\n",
    "            else [\n",
    "                [\n",
    "                    cfg.DATA.NUM_FRAMES // pool_size[0][0],\n",
    "                    cfg.DATA.CROP_SIZE // 32 // pool_size[0][1],\n",
    "                    cfg.DATA.CROP_SIZE // 32 // pool_size[0][2],\n",
    "                ]\n",
    "            ],  # None for AdaptiveAvgPool3d((1, 1, 1))\n",
    "            dropout_rate=cfg.MODEL.DROPOUT_RATE,\n",
    "            act_func=cfg.MODEL.HEAD_ACT,\n",
    "            \n",
    "        )\n",
    "\n",
    "    if cfg.NUM_GPUS:\n",
    "        # Determine the GPU used by the current process\n",
    "        cur_device = cfg.USED_GPU\n",
    "        # Transfer the model to the current GPU device\n",
    "        model = model.cuda(device=cur_device)\n",
    "    # Use multi-process data parallel model in the multi-gpu setting\n",
    "    if cfg.NUM_GPUS > 1:\n",
    "        # Make model replica operate on the current device\n",
    "        model = torch.nn.parallel.DistributedDataParallel(\n",
    "            module=model, device_ids=[cur_device], output_device=cur_device\n",
    "        )\n",
    "    return model\n",
    "\n"
   ]
  },
  {
   "cell_type": "code",
   "execution_count": 7,
   "metadata": {},
   "outputs": [
    {
     "name": "stderr",
     "output_type": "stream",
     "text": [
      "usage: ipykernel_launcher.py [-h] [--shard_id SHARD_ID]\n",
      "                             [--num_shards NUM_SHARDS]\n",
      "                             [--init_method INIT_METHOD]\n",
      "                             [--cfg CFG_FILES [CFG_FILES ...]] [--opts ...]\n",
      "ipykernel_launcher.py: error: unrecognized arguments: --ip=127.0.0.1 --stdin=9003 --control=9001 --hb=9000 --Session.signature_scheme=\"hmac-sha256\" --Session.key=b\"669ba70c-be02-4d55-b26e-5bc77ff9ce56\" --shell=9002 --transport=\"tcp\" --iopub=9004 --f=/home/pangy/.local/share/jupyter/runtime/kernel-v2-9351iDYGvM00xGSr.json\n"
     ]
    },
    {
     "ename": "SystemExit",
     "evalue": "2",
     "output_type": "error",
     "traceback": [
      "An exception has occurred, use %tb to see the full traceback.\n",
      "\u001b[0;31mSystemExit\u001b[0m\u001b[0;31m:\u001b[0m 2\n"
     ]
    }
   ],
   "source": []
  },
  {
   "cell_type": "code",
   "execution_count": null,
   "metadata": {},
   "outputs": [],
   "source": []
  }
 ],
 "metadata": {
  "kernelspec": {
   "display_name": "PitVis",
   "language": "python",
   "name": "python3"
  },
  "language_info": {
   "codemirror_mode": {
    "name": "ipython",
    "version": 3
   },
   "file_extension": ".py",
   "mimetype": "text/x-python",
   "name": "python",
   "nbconvert_exporter": "python",
   "pygments_lexer": "ipython3",
   "version": "3.9.18"
  }
 },
 "nbformat": 4,
 "nbformat_minor": 2
}
