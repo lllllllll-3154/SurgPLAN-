{
 "cells": [
  {
   "cell_type": "code",
   "execution_count": 1,
   "metadata": {},
   "outputs": [],
   "source": [
    "import pandas as pd\n",
    "import numpy as np\n",
    "import sklearn\n",
    "import os\n",
    "import json\n",
    "from sklearn.metrics import accuracy_score\n",
    "from sklearn.metrics import f1_score\n",
    "from sklearn.metrics import recall_score\n",
    "from sklearn.metrics import precision_score\n",
    "from sklearn.metrics import jaccard_score\n"
   ]
  },
  {
   "cell_type": "code",
   "execution_count": 2,
   "metadata": {},
   "outputs": [],
   "source": [
    "gt_csv_path = \"/home/lxj/project/surgplan/LUO/test_only/TriDet/ground_truth_cataracts.csv\"\n",
    "pred_csv_path = \"/home/lxj/project/surgplan/LUO/test_only/TriDet/prediction_cataracts.csv\""
   ]
  },
  {
   "cell_type": "code",
   "execution_count": 3,
   "metadata": {},
   "outputs": [],
   "source": [
    "gt_df = pd.read_csv(gt_csv_path,usecols=[\"video-id\",\"t-start\",\"t-end\",\"label\"])\n",
    "pred_df = pd.read_csv(pred_csv_path,usecols=[\"video-id\",\"t-start\",\"t-end\",\"label\",\"score\"])\n",
    "with open(\"//home/lxj/project/surgplan/LUO/test_only/TriDet/data_cataracts.json\",\"r\") as f:\n",
    "    gt_json = json.load(f)"
   ]
  },
  {
   "cell_type": "code",
   "execution_count": 4,
   "metadata": {},
   "outputs": [],
   "source": [
    "pred_df = pred_df.sort_values(by=[\"video-id\",\"score\"])"
   ]
  },
  {
   "cell_type": "code",
   "execution_count": 5,
   "metadata": {},
   "outputs": [
    {
     "data": {
      "text/plain": [
       "array([0.1 , 0.12, 0.14, 0.16, 0.18, 0.2 , 0.22, 0.24, 0.26, 0.28, 0.3 ])"
      ]
     },
     "execution_count": 5,
     "metadata": {},
     "output_type": "execute_result"
    }
   ],
   "source": [
    "threshold_list = np.linspace(0.1,0.3,11)\n",
    "threshold_list"
   ]
  },
  {
   "cell_type": "code",
   "execution_count": 6,
   "metadata": {},
   "outputs": [],
   "source": [
    "#pred_df = pred_df[pred_df[\"score\"]>0.15]"
   ]
  },
  {
   "cell_type": "code",
   "execution_count": 6,
   "metadata": {},
   "outputs": [],
   "source": [
    "def calculate_acc(pred_df,gt_df):\n",
    "    df_gt= pd.DataFrame(columns=[\"video_id\",\"gt_labels\"])\n",
    "    for k,v in gt_json.items():\n",
    "        if \"train\" in k:\n",
    "            continue\n",
    "        dur = v[\"last_time\"]\n",
    "        video_name = k.split(\".\")[0]\n",
    "        gt_labels = [0 for i in range(int(np.round(dur)))]\n",
    "        video_id = [k for i in range(int(np.round(dur)))]\n",
    "        df = pd.DataFrame(columns=[\"video_id\",\"gt_labels\"])\n",
    "        df[\"video_id\"] = video_id\n",
    "        df[\"gt_labels\"] = gt_labels\n",
    "        subset = gt_df[gt_df[\"video-id\"]==video_name]\n",
    "        \n",
    "        for index in subset.index:\n",
    "            start = int(np.round(subset.loc[index][\"t-start\"]))\n",
    "            end = int(np.round(subset.loc[index][\"t-end\"]))\n",
    "            label = subset.loc[index][\"label\"]\n",
    "            for i in range(start,end+1):\n",
    "                df.loc[i,\"gt_labels\"] = label+1\n",
    "        \n",
    "        df_gt = pd.concat([df_gt,df],ignore_index=True)    \n",
    "    df_pred = pd.DataFrame(columns=[\"video_id\",\"pred_labels\"])\n",
    "\n",
    "\n",
    "    for k,v in gt_json.items():\n",
    "        if \"train\" in k:\n",
    "            continue\n",
    "        video_name = k.split(\".\")[0]\n",
    "        dur = v[\"last_time\"]\n",
    "        gt_labels = [0 for i in range(int(np.round(dur)))]\n",
    "        video_id = [k for i in range(int(np.round(dur)))]\n",
    "        df = pd.DataFrame(columns=[\"video_id\",\"pred_labels\"])\n",
    "        df[\"video_id\"] = video_id\n",
    "        df[\"pred_labels\"] = gt_labels\n",
    "        subset = pred_df[pred_df[\"video-id\"]==video_name]\n",
    "        \n",
    "        for index in subset.index:\n",
    "            start = int(np.round(subset.loc[index][\"t-start\"]))\n",
    "            end = int(np.round(subset.loc[index][\"t-end\"]))\n",
    "            label = subset.loc[index][\"label\"]\n",
    "            for i in range(start,end+1):\n",
    "                if i>=len(df):\n",
    "                    continue\n",
    "                df.loc[i,\"pred_labels\"] = label+1\n",
    "        #print(df)\n",
    "        df_pred = pd.concat([df_pred,df],ignore_index=True)\n",
    "\n",
    "    df_all =pd.concat([df_gt,df_pred[\"pred_labels\"]],axis=1)\n",
    "    acc = accuracy_score(df_all[\"gt_labels\"].to_list(),df_all[\"pred_labels\"].to_list())\n",
    "    f1 = f1_score(df_all[\"gt_labels\"].to_list(),df_all[\"pred_labels\"].to_list(),average=\"weighted\")\n",
    "    recall = recall_score(df_all[\"gt_labels\"].to_list(),df_all[\"pred_labels\"].to_list(),average=\"weighted\")\n",
    "    precision = precision_score(df_all[\"gt_labels\"].to_list(),df_all[\"pred_labels\"].to_list(),average=\"weighted\")\n",
    "    jaccard = jaccard_score(df_all[\"gt_labels\"].to_list(),df_all[\"pred_labels\"].to_list(),average=\"weighted\")\n",
    "\n",
    "    df_pred.to_csv(\"df_pred.csv\",index=False)\n",
    "    df_gt.to_csv(\"df_gt.csv\",index=False)\n",
    "    print(\"accuracy under the threshold : \", acc,end=\"     \")\n",
    "    print(\"f1 score under the threshold : \", f1,end=\"     \")\n",
    "    print(\"precision score under the threshold : \", precision,end=\"     \")\n",
    "    print(\"recall score under the threshold : \", recall)\n",
    "    print(\"jaccard score under the threshold : \", jaccard)"
   ]
  },
  {
   "cell_type": "code",
   "execution_count": 242,
   "metadata": {},
   "outputs": [
    {
     "name": "stdout",
     "output_type": "stream",
     "text": [
      "KeysView(<matplotlib.cm._DeprecatedCmapDictWrapper object at 0x7f6d6abf8910>)\n"
     ]
    }
   ],
   "source": [
    "print(plt.cm.cmap_d.keys())"
   ]
  },
  {
   "cell_type": "code",
   "execution_count": 7,
   "metadata": {},
   "outputs": [
    {
     "name": "stdout",
     "output_type": "stream",
     "text": [
      "accuracy under the threshold :  0.8438310005184033     f1 score under the threshold :  0.8400354694376387     precision score under the threshold :  0.8425916033868036     recall score under the threshold :  0.8438310005184033\n",
      "jaccard score under the threshold :  0.733720921448908\n"
     ]
    },
    {
     "name": "stderr",
     "output_type": "stream",
     "text": [
      "/home/lxj/anaconda3/envs/surgplan/lib/python3.10/site-packages/sklearn/metrics/_classification.py:1344: UndefinedMetricWarning: Precision is ill-defined and being set to 0.0 in labels with no predicted samples. Use `zero_division` parameter to control this behavior.\n",
      "  _warn_prf(average, modifier, msg_start, len(result))\n"
     ]
    }
   ],
   "source": [
    "pred_df_threshold = pred_df[pred_df[\"score\"]>0.20]\n",
    "calculate_acc(pred_df_threshold)"
   ]
  },
  {
   "cell_type": "code",
   "execution_count": 8,
   "metadata": {},
   "outputs": [],
   "source": [
    "num_to_label = { \n",
    "0:\"background\",\n",
    "1:'Toric Marking',\n",
    "2:'Implant Ejection', \n",
    "3:'Incision', \n",
    "4:'Viscodilatation', \n",
    "5:'Capsulorhexis', \n",
    "6:'Hydrodissetion',\n",
    "7:'Nucleus Breaking', \n",
    "8:'Phacoemulsification', \n",
    "9:'Vitrectomy', \n",
    "10:'Irrigation/Aspiration', \n",
    "11:'Preparing Implant',\n",
    "12:'Manual Aspiration', \n",
    "13:'Implantation', \n",
    "14:'Positioning', \n",
    "15:'OVD Aspiration', \n",
    "16:'Suturing', \n",
    "17:'Sealing Control',\n",
    "18:'Wound Hydratation'}"
   ]
  },
  {
   "cell_type": "code",
   "execution_count": 243,
   "metadata": {},
   "outputs": [],
   "source": [
    "from __future__ import print_function\n",
    "from __future__ import division\n",
    "import os\n",
    "import numpy as np\n",
    "\n",
    "import matplotlib.pyplot as plt\n",
    "import matplotlib.patches as mpatches\n",
    "from matplotlib import *\n",
    "from PIL import Image\n",
    "from collections import OrderedDict\n",
    "\n",
    "import csv\n",
    "\n",
    "\n",
    "def _barcode(gt, predict_phasenet, predict_trans, slowfast,predict_ours, save_file=None,color_map = plt.cm.tab20):\n",
    "    color_map = color_map # 色板\n",
    "    barprops = dict(aspect='auto', cmap=color_map,\n",
    "                    interpolation='nearest', vmin=0, vmax=20)\n",
    "    num_to_label = { \n",
    "        0:\"background\",\n",
    "        1:'Toric Marking',\n",
    "        2:'Implant Ejection', \n",
    "        3:'Incision', \n",
    "        4:'Viscodilatation', \n",
    "        5:'Capsulorhexis', \n",
    "        6:'Hydrodissetion',\n",
    "        7:'Nucleus Breaking', \n",
    "        8:'Phacoemulsification', \n",
    "        9:'Vitrectomy', \n",
    "        10:'Irrigation/Aspiration', \n",
    "        11:'Preparing Implant',\n",
    "        12:'Manual Aspiration', \n",
    "        13:'Implantation', \n",
    "        14:'Positioning', \n",
    "        15:'OVD Aspiration', \n",
    "        16:'Suturing', \n",
    "        17:'Sealing Control',\n",
    "        18:'Wound Hydratation'}\n",
    "    #plt.axis('off')\n",
    "    fig = plt.figure(figsize=(15, 10))\n",
    "    # a horizontal barcode\n",
    "    if gt is not None:\n",
    "        ax1 = fig.add_axes([0, 0.32, 1, 0.1])\n",
    "        #ax1.set_title('Ground Truth',fontsize=34)\n",
    "        ax1.set_xticks([])\n",
    "        ax1.set_yticks([])\n",
    "        #labels = sorted(df_gt[\"gt_labels\"].unique())  \n",
    "        #patches = [mpatches.Patch(color=color_map(i)) for i in labels]\n",
    "        ax1.imshow([gt], **barprops)\n",
    "\n",
    "    if predict_phasenet is not None:\n",
    "        ax2 = fig.add_axes([0, 0.80, 1, 0.1])\n",
    "        #ax2.set_title('TeCNO',fontsize=34)\n",
    "        ax2.set_xticks([])\n",
    "        ax2.set_yticks([])\n",
    "        ax2.imshow([predict_phasenet], **barprops)\n",
    "\n",
    "\n",
    "    #80 68 56 44\n",
    "    if predict_trans is not None:\n",
    "        ax2 = fig.add_axes([0, 0.68, 1, 0.1])\n",
    "        #ax2.set_title('SVRCN',fontsize=34)\n",
    "        ax2.set_xticks([])\n",
    "        ax2.set_yticks([])\n",
    "        ax2.imshow([predict_trans], **barprops)\n",
    "    \n",
    "    if slowfast is not None:\n",
    "        ax2 = fig.add_axes([0, 0.56, 1, 0.1])\n",
    "        #ax2.set_title('SVRCN',fontsize=34)\n",
    "        ax2.set_xticks([])\n",
    "        ax2.set_yticks([])\n",
    "        ax2.imshow([slowfast], **barprops)\n",
    "\n",
    "    if predict_ours is not None:\n",
    "        ax2 = fig.add_axes([0, 0.44, 1, 0.1])\n",
    "        #ax2.set_title('Predicted-Ours',fontsize=34)\n",
    "        ax2.set_xticks([])\n",
    "        ax2.set_yticks([])\n",
    "        #ax1.legend(labels = [num_to_label[i] for i in labels],handles=patches, loc='lower left', bbox_to_anchor=(1, 0))\n",
    "\n",
    "        ax2.imshow([predict_ours], **barprops)\n",
    "\n",
    "\n",
    "\n",
    "    if save_file is not None:\n",
    "        fig.savefig(save_file, dpi=400)\n",
    "    else:\n",
    "        plt.show()\n",
    "        \n",
    "    plt.close(fig)\n"
   ]
  },
  {
   "cell_type": "code",
   "execution_count": 254,
   "metadata": {},
   "outputs": [],
   "source": [
    "df_pred = pd.read_csv(\"/home/lxj/project/surgplan/LUO/test_only/TriDet/df_pred.csv\")\n",
    "df_gt = pd.read_csv(\"/home/lxj/project/surgplan/LUO/test_only/TriDet/df_gt.csv\")\n",
    "\n",
    "df_pred = df_pred[df_pred[\"video_id\"]==\"test23.mp4\"]\n",
    "df_gt = df_gt[df_gt[\"video_id\"]==\"test23.mp4\"]\n"
   ]
  },
  {
   "cell_type": "code",
   "execution_count": 214,
   "metadata": {},
   "outputs": [],
   "source": [
    "trans_result_2 = trans_pred[12304:12840]"
   ]
  },
  {
   "cell_type": "code",
   "execution_count": 215,
   "metadata": {},
   "outputs": [],
   "source": [
    "tecno_result_2 = tecno_pred[12304:12840]"
   ]
  },
  {
   "cell_type": "code",
   "execution_count": 244,
   "metadata": {},
   "outputs": [
    {
     "data": {
      "image/png": "[encoded data removed]",
      "text/plain": [
       "<Figure size 1500x1000 with 5 Axes>"
      ]
     },
     "metadata": {},
     "output_type": "display_data"
    }
   ],
   "source": [
    "online_result = pd.read_csv(\"/home/lxj/project/surgplan/LUO/result_real_time_test20.mp4.csv\")\n",
    "online_result = online_result[\"pred_labels\"]\n",
    "\n",
    "_barcode(df_gt[\"gt_labels\"],trans_result_2,predict_trans=tecno_result_2,slowfast = online_result,predict_ours=df_pred[\"pred_labels\"],save_file=None,color_map=plt.cm.Set3)\n"
   ]
  },
  {
   "cell_type": "code",
   "execution_count": 246,
   "metadata": {},
   "outputs": [],
   "source": [
    "#处理 TransSV\n",
    "\n",
    "\n",
    "with open(\"/home/lxj/project/Trans-SVNet/result/result_epoch_37.json\",\"r\") as f:\n",
    "    trans_pred = json.load(f)"
   ]
  },
  {
   "cell_type": "code",
   "execution_count": 247,
   "metadata": {},
   "outputs": [],
   "source": [
    "gt = pd.read_csv(\"/home/lxj/project/surgplan/LUO/test_only/TriDet/df_gt.csv\")\n"
   ]
  },
  {
   "cell_type": "code",
   "execution_count": 100,
   "metadata": {},
   "outputs": [
    {
     "data": {
      "text/plain": [
       "14857"
      ]
     },
     "execution_count": 100,
     "metadata": {},
     "output_type": "execute_result"
    }
   ],
   "source": [
    "len(trans_pred)"
   ]
  },
  {
   "cell_type": "code",
   "execution_count": 248,
   "metadata": {},
   "outputs": [],
   "source": [
    "trans_result = trans_pred[13816:14338]"
   ]
  },
  {
   "cell_type": "code",
   "execution_count": 249,
   "metadata": {},
   "outputs": [],
   "source": [
    "#tecno\n",
    "\n",
    "\n",
    "with open(\"/home/lxj/project/Trans-SVNet/result_tecno/result_epoch_18.json\",\"r\") as f:\n",
    "    tecno_pred = json.load(f)\n",
    "    "
   ]
  },
  {
   "cell_type": "code",
   "execution_count": 250,
   "metadata": {},
   "outputs": [],
   "source": [
    "tecno_result = tecno_pred[13816:14338]"
   ]
  },
  {
   "cell_type": "code",
   "execution_count": 255,
   "metadata": {},
   "outputs": [],
   "source": [
    "online_result = pd.read_csv(\"/home/lxj/project/surgplan/LUO/result_real_time_test23.mp4.csv\")\n",
    "online_result = online_result[\"pred_labels\"]"
   ]
  },
  {
   "cell_type": "code",
   "execution_count": 177,
   "metadata": {},
   "outputs": [],
   "source": [
    "revised_df = df_pred[\"pred_labels\"].copy()"
   ]
  },
  {
   "cell_type": "code",
   "execution_count": 205,
   "metadata": {},
   "outputs": [
    {
     "data": {
      "text/html": [
       "<div>\n",
       "<style scoped>\n",
       "    .dataframe tbody tr th:only-of-type {\n",
       "        vertical-align: middle;\n",
       "    }\n",
       "\n",
       "    .dataframe tbody tr th {\n",
       "        vertical-align: top;\n",
       "    }\n",
       "\n",
       "    .dataframe thead th {\n",
       "        text-align: right;\n",
       "    }\n",
       "</style>\n",
       "<table border=\"1\" class=\"dataframe\">\n",
       "  <thead>\n",
       "    <tr style=\"text-align: right;\">\n",
       "      <th></th>\n",
       "      <th>video_id</th>\n",
       "      <th>gt_labels</th>\n",
       "    </tr>\n",
       "  </thead>\n",
       "  <tbody>\n",
       "    <tr>\n",
       "      <th>13803</th>\n",
       "      <td>test23.mp4</td>\n",
       "      <td>0</td>\n",
       "    </tr>\n",
       "    <tr>\n",
       "      <th>13804</th>\n",
       "      <td>test23.mp4</td>\n",
       "      <td>0</td>\n",
       "    </tr>\n",
       "    <tr>\n",
       "      <th>13805</th>\n",
       "      <td>test23.mp4</td>\n",
       "      <td>0</td>\n",
       "    </tr>\n",
       "    <tr>\n",
       "      <th>13806</th>\n",
       "      <td>test23.mp4</td>\n",
       "      <td>0</td>\n",
       "    </tr>\n",
       "    <tr>\n",
       "      <th>13807</th>\n",
       "      <td>test23.mp4</td>\n",
       "      <td>0</td>\n",
       "    </tr>\n",
       "    <tr>\n",
       "      <th>...</th>\n",
       "      <td>...</td>\n",
       "      <td>...</td>\n",
       "    </tr>\n",
       "    <tr>\n",
       "      <th>14320</th>\n",
       "      <td>test23.mp4</td>\n",
       "      <td>18</td>\n",
       "    </tr>\n",
       "    <tr>\n",
       "      <th>14321</th>\n",
       "      <td>test23.mp4</td>\n",
       "      <td>0</td>\n",
       "    </tr>\n",
       "    <tr>\n",
       "      <th>14322</th>\n",
       "      <td>test23.mp4</td>\n",
       "      <td>0</td>\n",
       "    </tr>\n",
       "    <tr>\n",
       "      <th>14323</th>\n",
       "      <td>test23.mp4</td>\n",
       "      <td>0</td>\n",
       "    </tr>\n",
       "    <tr>\n",
       "      <th>14324</th>\n",
       "      <td>test23.mp4</td>\n",
       "      <td>0</td>\n",
       "    </tr>\n",
       "  </tbody>\n",
       "</table>\n",
       "<p>522 rows × 2 columns</p>\n",
       "</div>"
      ],
      "text/plain": [
       "         video_id  gt_labels\n",
       "13803  test23.mp4          0\n",
       "13804  test23.mp4          0\n",
       "13805  test23.mp4          0\n",
       "13806  test23.mp4          0\n",
       "13807  test23.mp4          0\n",
       "...           ...        ...\n",
       "14320  test23.mp4         18\n",
       "14321  test23.mp4          0\n",
       "14322  test23.mp4          0\n",
       "14323  test23.mp4          0\n",
       "14324  test23.mp4          0\n",
       "\n",
       "[522 rows x 2 columns]"
      ]
     },
     "execution_count": 205,
     "metadata": {},
     "output_type": "execute_result"
    }
   ],
   "source": [
    "df_gt #+13"
   ]
  },
  {
   "cell_type": "code",
   "execution_count": null,
   "metadata": {},
   "outputs": [],
   "source": []
  },
  {
   "cell_type": "code",
   "execution_count": null,
   "metadata": {},
   "outputs": [],
   "source": []
  },
  {
   "cell_type": "code",
   "execution_count": 256,
   "metadata": {},
   "outputs": [
    {
     "data": {
      "image/png": "[encoded data removed]",
      "text/plain": [
       "<Figure size 1500x1000 with 5 Axes>"
      ]
     },
     "metadata": {},
     "output_type": "display_data"
    }
   ],
   "source": [
    "_barcode(df_gt[\"gt_labels\"],trans_result,predict_trans=tecno_result,slowfast = online_result,predict_ours=df_pred[\"pred_labels\"],save_file=None,color_map=plt.cm.Set3)"
   ]
  },
  {
   "cell_type": "code",
   "execution_count": 14,
   "metadata": {},
   "outputs": [],
   "source": [
    "svrcn = pd.read_csv(\"/home/pangy/disk/LUO/test_only/TriDet/SVRC-Net.csv\")\n",
    "svrcn_pred = svrcn[\"pred_labels\"]"
   ]
  },
  {
   "cell_type": "code",
   "execution_count": 15,
   "metadata": {},
   "outputs": [],
   "source": [
    "gt = pd.read_csv(\"/home/pangy/disk/LUO/test_only/TriDet/df_gt.csv\")\n"
   ]
  },
  {
   "cell_type": "code",
   "execution_count": 16,
   "metadata": {},
   "outputs": [],
   "source": [
    "vid_counts = gt.groupby(\"video_id\").count()"
   ]
  },
  {
   "cell_type": "code",
   "execution_count": 17,
   "metadata": {},
   "outputs": [
    {
     "data": {
      "text/plain": [
       "754"
      ]
     },
     "execution_count": 17,
     "metadata": {},
     "output_type": "execute_result"
    }
   ],
   "source": [
    "int(vid_counts.iloc[0])"
   ]
  },
  {
   "cell_type": "code",
   "execution_count": 18,
   "metadata": {},
   "outputs": [],
   "source": [
    "import torch\n",
    "\n",
    "dir_path = \"/home/pangy/disk/LUO/test_only/TriDet/slowfast_pred\"\n",
    "file_list = os.listdir(dir_path)\n",
    "file_list.sort()\n",
    "gt = pd.read_csv(\"/home/pangy/disk/LUO/test_only/TriDet/df_gt.csv\")\n",
    "s = torch.nn.Sigmoid()\n",
    "sf_pred = []\n",
    "for i,f in enumerate(file_list):\n",
    "    file_path = os.path.join(dir_path,f)\n",
    "    vid_length = int(vid_counts.iloc[i])\n",
    "    feat = torch.load(file_path)\n",
    "    feat_used = feat[:vid_length]\n",
    "    feat_softmax = s(feat_used)\n",
    "    slowfast_pred = []\n",
    "    for i in feat_softmax:\n",
    "        if max(i)<0.015:\n",
    "            sf_pred.append(0)\n",
    "        else:\n",
    "            sf_pred.append(int(i.argmax()))\n",
    "    #sf_pred.append(slowfast_pred)\n",
    "\n"
   ]
  },
  {
   "cell_type": "code",
   "execution_count": 21,
   "metadata": {},
   "outputs": [],
   "source": [
    "#slowfast feature\n",
    "sf_feat = torch.load(\"/home/pangy/disk/LUO/test_only/TriDet/out_cls_logits.pkl\")\n",
    "sf_feat_used = sf_feat[0][0][:504]\n",
    "s = torch.nn.Sigmoid()\n",
    "sf_feat_used_softmax = s(sf_feat_used)\n",
    "sf_feat_used_softmax = sf_feat_used_softmax.to(\"cpu\")\n",
    "slowfast_pred = []\n",
    "for i in sf_feat_used_softmax:\n",
    "    if max(i)<0.02:\n",
    "        slowfast_pred.append(0)\n",
    "    else:\n",
    "        slowfast_pred.append(int(i.argmax()))\n"
   ]
  },
  {
   "cell_type": "code",
   "execution_count": 27,
   "metadata": {},
   "outputs": [
    {
     "data": {
      "text/html": [
       "<div>\n",
       "<style scoped>\n",
       "    .dataframe tbody tr th:only-of-type {\n",
       "        vertical-align: middle;\n",
       "    }\n",
       "\n",
       "    .dataframe tbody tr th {\n",
       "        vertical-align: top;\n",
       "    }\n",
       "\n",
       "    .dataframe thead th {\n",
       "        text-align: right;\n",
       "    }\n",
       "</style>\n",
       "<table border=\"1\" class=\"dataframe\">\n",
       "  <thead>\n",
       "    <tr style=\"text-align: right;\">\n",
       "      <th></th>\n",
       "      <th>video_id</th>\n",
       "      <th>gt_labels</th>\n",
       "    </tr>\n",
       "  </thead>\n",
       "  <tbody>\n",
       "    <tr>\n",
       "      <th>2611</th>\n",
       "      <td>test03.mp4</td>\n",
       "      <td>0</td>\n",
       "    </tr>\n",
       "    <tr>\n",
       "      <th>2612</th>\n",
       "      <td>test03.mp4</td>\n",
       "      <td>0</td>\n",
       "    </tr>\n",
       "    <tr>\n",
       "      <th>2613</th>\n",
       "      <td>test03.mp4</td>\n",
       "      <td>0</td>\n",
       "    </tr>\n",
       "    <tr>\n",
       "      <th>2614</th>\n",
       "      <td>test03.mp4</td>\n",
       "      <td>0</td>\n",
       "    </tr>\n",
       "    <tr>\n",
       "      <th>2615</th>\n",
       "      <td>test03.mp4</td>\n",
       "      <td>0</td>\n",
       "    </tr>\n",
       "    <tr>\n",
       "      <th>...</th>\n",
       "      <td>...</td>\n",
       "      <td>...</td>\n",
       "    </tr>\n",
       "    <tr>\n",
       "      <th>3109</th>\n",
       "      <td>test03.mp4</td>\n",
       "      <td>18</td>\n",
       "    </tr>\n",
       "    <tr>\n",
       "      <th>3110</th>\n",
       "      <td>test03.mp4</td>\n",
       "      <td>0</td>\n",
       "    </tr>\n",
       "    <tr>\n",
       "      <th>3111</th>\n",
       "      <td>test03.mp4</td>\n",
       "      <td>0</td>\n",
       "    </tr>\n",
       "    <tr>\n",
       "      <th>3112</th>\n",
       "      <td>test03.mp4</td>\n",
       "      <td>0</td>\n",
       "    </tr>\n",
       "    <tr>\n",
       "      <th>3113</th>\n",
       "      <td>test03.mp4</td>\n",
       "      <td>0</td>\n",
       "    </tr>\n",
       "  </tbody>\n",
       "</table>\n",
       "<p>503 rows × 2 columns</p>\n",
       "</div>"
      ],
      "text/plain": [
       "        video_id  gt_labels\n",
       "2611  test03.mp4          0\n",
       "2612  test03.mp4          0\n",
       "2613  test03.mp4          0\n",
       "2614  test03.mp4          0\n",
       "2615  test03.mp4          0\n",
       "...          ...        ...\n",
       "3109  test03.mp4         18\n",
       "3110  test03.mp4          0\n",
       "3111  test03.mp4          0\n",
       "3112  test03.mp4          0\n",
       "3113  test03.mp4          0\n",
       "\n",
       "[503 rows x 2 columns]"
      ]
     },
     "execution_count": 27,
     "metadata": {},
     "output_type": "execute_result"
    }
   ],
   "source": [
    "df_pred"
   ]
  },
  {
   "cell_type": "code",
   "execution_count": 35,
   "metadata": {},
   "outputs": [
    {
     "data": {
      "image/png": "[encoded data removed]",
      "text/plain": [
       "<Figure size 1500x1000 with 5 Axes>"
      ]
     },
     "metadata": {},
     "output_type": "display_data"
    }
   ],
   "source": [
    "_barcode(df_gt[\"gt_labels\"],df_pred[\"pred_labels\"],predict_trans=df_pred[\"pred_labels\"],slowfast = online_result,predict_ours=df_pred[\"pred_labels\"],save_file=None)"
   ]
  },
  {
   "cell_type": "code",
   "execution_count": 23,
   "metadata": {},
   "outputs": [
    {
     "data": {
      "text/plain": [
       "'for threshold in threshold_list:\\n    pred_df_threshold = pred_df[pred_df[\"score\"]>threshold]\\n    print(\"current threshold: \",threshold,end=\"     \")\\n    calculate_acc(pred_df_threshold)\\n    print(\"=======================================================================\")'"
      ]
     },
     "execution_count": 23,
     "metadata": {},
     "output_type": "execute_result"
    }
   ],
   "source": [
    "\"\"\"for threshold in threshold_list:\n",
    "    pred_df_threshold = pred_df[pred_df[\"score\"]>threshold]\n",
    "    print(\"current threshold: \",threshold,end=\"     \")\n",
    "    calculate_acc(pred_df_threshold)\n",
    "    print(\"=======================================================================\")\"\"\""
   ]
  },
  {
   "cell_type": "code",
   "execution_count": null,
   "metadata": {},
   "outputs": [],
   "source": [
    "\n",
    "\n",
    "    "
   ]
  },
  {
   "cell_type": "code",
   "execution_count": null,
   "metadata": {},
   "outputs": [],
   "source": []
  },
  {
   "cell_type": "code",
   "execution_count": null,
   "metadata": {},
   "outputs": [],
   "source": []
  },
  {
   "cell_type": "code",
   "execution_count": null,
   "metadata": {},
   "outputs": [],
   "source": []
  },
  {
   "cell_type": "code",
   "execution_count": null,
   "metadata": {},
   "outputs": [],
   "source": []
  },
  {
   "cell_type": "code",
   "execution_count": null,
   "metadata": {},
   "outputs": [],
   "source": []
  },
  {
   "cell_type": "code",
   "execution_count": 24,
   "metadata": {},
   "outputs": [
    {
     "ename": "NameError",
     "evalue": "name 'pred_list' is not defined",
     "output_type": "error",
     "traceback": [
      "\u001b[0;31m---------------------------------------------------------------------------\u001b[0m",
      "\u001b[0;31mNameError\u001b[0m                                 Traceback (most recent call last)",
      "\u001b[1;32m/home/pangy/disk/LUO/test_only/TriDet/transform_to_acc.ipynb Cell 31\u001b[0m line \u001b[0;36m2\n\u001b[1;32m      <a href='vscode-notebook-cell://ssh-remote%2B180.184.86.187/home/pangy/disk/LUO/test_only/TriDet/transform_to_acc.ipynb#X42sdnNjb2RlLXJlbW90ZQ%3D%3D?line=0'>1</a>\u001b[0m gt \u001b[39m=\u001b[39m df_gt[\u001b[39m\"\u001b[39m\u001b[39mgt_labels\u001b[39m\u001b[39m\"\u001b[39m]\n\u001b[0;32m----> <a href='vscode-notebook-cell://ssh-remote%2B180.184.86.187/home/pangy/disk/LUO/test_only/TriDet/transform_to_acc.ipynb#X42sdnNjb2RlLXJlbW90ZQ%3D%3D?line=1'>2</a>\u001b[0m predict_phasenet \u001b[39m=\u001b[39m pred_list\n\u001b[1;32m      <a href='vscode-notebook-cell://ssh-remote%2B180.184.86.187/home/pangy/disk/LUO/test_only/TriDet/transform_to_acc.ipynb#X42sdnNjb2RlLXJlbW90ZQ%3D%3D?line=2'>3</a>\u001b[0m color_map \u001b[39m=\u001b[39m plt\u001b[39m.\u001b[39mcm\u001b[39m.\u001b[39mtab20 \u001b[39m# 色板\u001b[39;00m\n\u001b[1;32m      <a href='vscode-notebook-cell://ssh-remote%2B180.184.86.187/home/pangy/disk/LUO/test_only/TriDet/transform_to_acc.ipynb#X42sdnNjb2RlLXJlbW90ZQ%3D%3D?line=3'>4</a>\u001b[0m barprops \u001b[39m=\u001b[39m \u001b[39mdict\u001b[39m(aspect\u001b[39m=\u001b[39m\u001b[39m'\u001b[39m\u001b[39mauto\u001b[39m\u001b[39m'\u001b[39m, cmap\u001b[39m=\u001b[39mcolor_map,\n\u001b[1;32m      <a href='vscode-notebook-cell://ssh-remote%2B180.184.86.187/home/pangy/disk/LUO/test_only/TriDet/transform_to_acc.ipynb#X42sdnNjb2RlLXJlbW90ZQ%3D%3D?line=4'>5</a>\u001b[0m                 interpolation\u001b[39m=\u001b[39m\u001b[39m'\u001b[39m\u001b[39mnearest\u001b[39m\u001b[39m'\u001b[39m, vmin\u001b[39m=\u001b[39m\u001b[39m0\u001b[39m, vmax\u001b[39m=\u001b[39m\u001b[39m20\u001b[39m)\n",
      "\u001b[0;31mNameError\u001b[0m: name 'pred_list' is not defined"
     ]
    }
   ],
   "source": [
    "gt = df_gt[\"gt_labels\"]\n",
    "predict_phasenet = pred_list\n",
    "color_map = plt.cm.tab20 # 色板\n",
    "barprops = dict(aspect='auto', cmap=color_map,\n",
    "                interpolation='nearest', vmin=0, vmax=20)\n",
    "num_to_label = { \n",
    "    0:\"background\",\n",
    "    1:'Toric Marking',\n",
    "    2:'Implant Ejection', \n",
    "    3:'Incision', \n",
    "    4:'Viscodilatation', \n",
    "    5:'Capsulorhexis', \n",
    "    6:'Hydrodissetion',\n",
    "    7:'Nucleus Breaking', \n",
    "    8:'Phacoemulsification', \n",
    "    9:'Vitrectomy', \n",
    "    10:'Irrigation/Aspiration', \n",
    "    11:'Preparing Implant',\n",
    "    12:'Manual Aspiration', \n",
    "    13:'Implantation', \n",
    "    14:'Positioning', \n",
    "    15:'OVD Aspiration', \n",
    "    16:'Suturing', \n",
    "    17:'Sealing Control',\n",
    "    18:'Wound Hydratation'}\n",
    "#plt.axis('off')\n",
    "fig = plt.figure(figsize=(15, 10))\n",
    "# a horizontal barcode\n",
    "if gt is not None:\n",
    "    ax1 = fig.add_axes([0, 0.44, 1, 0.1])\n",
    "    #ax1.set_title('Ground Truth',fontsize=34)\n",
    "    ax1.set_xticks([])\n",
    "    ax1.set_yticks([])\n",
    "    #labels = sorted(df_gt[\"gt_labels\"].unique())  \n",
    "    #patches = [mpatches.Patch(color=color_map(i)) for i in labels]\n",
    "    #ax1.legend(labels = [num_to_label[i] for i in labels],handles=patches, loc='upper left', bbox_to_anchor=(1, 1))\n",
    "    ax1.imshow([gt], **barprops)\n",
    "\n",
    "if predict_phasenet is not None:\n",
    "    ax2 = fig.add_axes([0, 0.80, 1, 0.1])\n",
    "    #ax2.set_title('TeCNO',fontsize=34)\n",
    "    ax2.set_xticks([])\n",
    "    ax2.set_yticks([])\n",
    "    ax2.imshow([predict_phasenet], **barprops)"
   ]
  },
  {
   "cell_type": "code",
   "execution_count": null,
   "metadata": {},
   "outputs": [
    {
     "data": {
      "text/plain": [
       "2611     0\n",
       "2612     0\n",
       "2613     0\n",
       "2614     0\n",
       "2615     0\n",
       "        ..\n",
       "3109    18\n",
       "3110     0\n",
       "3111     0\n",
       "3112     0\n",
       "3113     0\n",
       "Name: gt_labels, Length: 503, dtype: int64"
      ]
     },
     "execution_count": 295,
     "metadata": {},
     "output_type": "execute_result"
    }
   ],
   "source": []
  },
  {
   "cell_type": "code",
   "execution_count": null,
   "metadata": {},
   "outputs": [],
   "source": []
  },
  {
   "cell_type": "code",
   "execution_count": null,
   "metadata": {},
   "outputs": [
    {
     "name": "stdout",
     "output_type": "stream",
     "text": [
      "0.6719681908548708 0.7273204074302738 0.7998258618298157 0.797685267969733\n"
     ]
    }
   ],
   "source": []
  },
  {
   "cell_type": "code",
   "execution_count": null,
   "metadata": {},
   "outputs": [
    {
     "data": {
      "text/plain": [
       "'\\ndf_gt= pd.DataFrame(columns=[\"video_id\",\"gt_labels\"])\\nfor k,v in gt_json.items():\\n    if \"train\" in k:\\n        continue\\n    dur = v[\"last_time\"]\\n    video_name = k.split(\".\")[0]\\n    gt_labels = [0 for i in range(int(np.round(dur)))]\\n    video_id = [k for i in range(int(np.round(dur)))]\\n    df = pd.DataFrame(columns=[\"video_id\",\"gt_labels\"])\\n    df[\"video_id\"] = video_id\\n    df[\"gt_labels\"] = gt_labels\\n    subset = gt_df[gt_df[\"video-id\"]==video_name]\\n    \\n    for index in subset.index:\\n        start = int(np.round(subset.loc[index][\"t-start\"]))\\n        end = int(np.round(subset.loc[index][\"t-end\"]))\\n        label = subset.loc[index][\"label\"]\\n        for i in range(start,end+1):\\n            df.loc[i,\"gt_labels\"] = label+1\\n    \\n    df_gt = pd.concat([df_gt,df],ignore_index=True)\\n        \\ndf_pred = pd.DataFrame(columns=[\"video_id\",\"pred_labels\"])\\nfor k,v in gt_json.items():\\n    if \"train\" in k:\\n        continue\\n    video_name = k.split(\".\")[0]\\n    dur = v[\"last_time\"]\\n    gt_labels = [0 for i in range(int(np.round(dur)))]\\n    video_id = [k for i in range(int(np.round(dur)))]\\n    df = pd.DataFrame(columns=[\"video_id\",\"pred_labels\"])\\n    df[\"video_id\"] = video_id\\n    df[\"pred_labels\"] = gt_labels\\n    subset = pred_df[pred_df[\"video-id\"]==video_name]\\n    \\n    for index in subset.index:\\n        start = int(np.round(subset.loc[index][\"t-start\"]))\\n        end = int(np.round(subset.loc[index][\"t-end\"]))\\n        label = subset.loc[index][\"label\"]\\n        for i in range(start,end+1):\\n            if i>=len(df):\\n                continue\\n            df.loc[i,\"pred_labels\"] = label+1\\n    #print(df)\\n    df_pred = pd.concat([df_pred,df],ignore_index=True)\\n\\n\\ndf_all =pd.concat([df_gt,df_pred[\"pred_labels\"]],axis=1)     \\naccuracy_score(df_all[\"gt_labels\"].to_list(),df_all[\"pred_labels\"].to_list())      \\n'"
      ]
     },
     "execution_count": 288,
     "metadata": {},
     "output_type": "execute_result"
    }
   ],
   "source": [
    "'''\n",
    "df_gt= pd.DataFrame(columns=[\"video_id\",\"gt_labels\"])\n",
    "for k,v in gt_json.items():\n",
    "    if \"train\" in k:\n",
    "        continue\n",
    "    dur = v[\"last_time\"]\n",
    "    video_name = k.split(\".\")[0]\n",
    "    gt_labels = [0 for i in range(int(np.round(dur)))]\n",
    "    video_id = [k for i in range(int(np.round(dur)))]\n",
    "    df = pd.DataFrame(columns=[\"video_id\",\"gt_labels\"])\n",
    "    df[\"video_id\"] = video_id\n",
    "    df[\"gt_labels\"] = gt_labels\n",
    "    subset = gt_df[gt_df[\"video-id\"]==video_name]\n",
    "    \n",
    "    for index in subset.index:\n",
    "        start = int(np.round(subset.loc[index][\"t-start\"]))\n",
    "        end = int(np.round(subset.loc[index][\"t-end\"]))\n",
    "        label = subset.loc[index][\"label\"]\n",
    "        for i in range(start,end+1):\n",
    "            df.loc[i,\"gt_labels\"] = label+1\n",
    "    \n",
    "    df_gt = pd.concat([df_gt,df],ignore_index=True)\n",
    "        \n",
    "df_pred = pd.DataFrame(columns=[\"video_id\",\"pred_labels\"])\n",
    "for k,v in gt_json.items():\n",
    "    if \"train\" in k:\n",
    "        continue\n",
    "    video_name = k.split(\".\")[0]\n",
    "    dur = v[\"last_time\"]\n",
    "    gt_labels = [0 for i in range(int(np.round(dur)))]\n",
    "    video_id = [k for i in range(int(np.round(dur)))]\n",
    "    df = pd.DataFrame(columns=[\"video_id\",\"pred_labels\"])\n",
    "    df[\"video_id\"] = video_id\n",
    "    df[\"pred_labels\"] = gt_labels\n",
    "    subset = pred_df[pred_df[\"video-id\"]==video_name]\n",
    "    \n",
    "    for index in subset.index:\n",
    "        start = int(np.round(subset.loc[index][\"t-start\"]))\n",
    "        end = int(np.round(subset.loc[index][\"t-end\"]))\n",
    "        label = subset.loc[index][\"label\"]\n",
    "        for i in range(start,end+1):\n",
    "            if i>=len(df):\n",
    "                continue\n",
    "            df.loc[i,\"pred_labels\"] = label+1\n",
    "    #print(df)\n",
    "    df_pred = pd.concat([df_pred,df],ignore_index=True)\n",
    "\n",
    "\n",
    "df_all =pd.concat([df_gt,df_pred[\"pred_labels\"]],axis=1)     \n",
    "accuracy_score(df_all[\"gt_labels\"].to_list(),df_all[\"pred_labels\"].to_list())      \n",
    "'''"
   ]
  },
  {
   "cell_type": "code",
   "execution_count": null,
   "metadata": {},
   "outputs": [],
   "source": []
  },
  {
   "cell_type": "code",
   "execution_count": 3,
   "metadata": {},
   "outputs": [],
   "source": [
    "df = pd.read_csv(\"/data/disk/LUO/test_only/r_tridet/TriDet/gt_pred_df.csv\")"
   ]
  },
  {
   "cell_type": "code",
   "execution_count": 17,
   "metadata": {},
   "outputs": [
    {
     "data": {
      "text/plain": [
       "array(['test01.mp4', 'test02.mp4', 'test03.mp4', 'test04.mp4',\n",
       "       'test05.mp4', 'test06.mp4', 'test07.mp4', 'test08.mp4',\n",
       "       'test09.mp4', 'test10.mp4', 'test11.mp4', 'test12.mp4',\n",
       "       'test13.mp4', 'test14.mp4', 'test15.mp4', 'test16.mp4',\n",
       "       'test17.mp4', 'test18.mp4', 'test19.mp4', 'test20.mp4',\n",
       "       'test21.mp4', 'test22.mp4', 'test23.mp4', 'test24.mp4',\n",
       "       'test25.mp4'], dtype=object)"
      ]
     },
     "execution_count": 17,
     "metadata": {},
     "output_type": "execute_result"
    }
   ],
   "source": []
  },
  {
   "cell_type": "code",
   "execution_count": 20,
   "metadata": {},
   "outputs": [
    {
     "name": "stdout",
     "output_type": "stream",
     "text": [
      "test01.mp4\n",
      "0.8076923076923077\n",
      "test02.mp4\n",
      "0.4991922455573506\n",
      "test03.mp4\n",
      "0.9403578528827038\n",
      "test04.mp4\n",
      "0.9173553719008265\n",
      "test05.mp4\n",
      "0.8891257995735607\n",
      "test06.mp4\n",
      "0.9187279151943463\n",
      "test07.mp4\n",
      "0.6711538461538461\n",
      "test08.mp4\n",
      "0.9548532731376975\n",
      "test09.mp4\n",
      "0.8604651162790697\n",
      "test10.mp4\n",
      "0.926056338028169\n",
      "test11.mp4\n",
      "0.8949416342412452\n",
      "test12.mp4\n",
      "0.9539641943734015\n",
      "test13.mp4\n",
      "0.935251798561151\n",
      "test14.mp4\n",
      "0.9238578680203046\n",
      "test15.mp4\n",
      "0.9504132231404959\n",
      "test16.mp4\n",
      "0.7756598240469208\n",
      "test17.mp4\n",
      "0.884765625\n",
      "test18.mp4\n",
      "0.8011444921316166\n",
      "test19.mp4\n",
      "0.8894952251023193\n",
      "test20.mp4\n",
      "0.9250936329588015\n",
      "test21.mp4\n",
      "0.9168399168399168\n",
      "test22.mp4\n",
      "0.8036437246963563\n",
      "test23.mp4\n",
      "0.9578544061302682\n",
      "test24.mp4\n",
      "0.9496124031007752\n",
      "test25.mp4\n",
      "0.9120135363790186\n"
     ]
    }
   ],
   "source": [
    "for i in df[\"video_id\"].unique():\n",
    "    print(i)\n",
    "    test = df[df[\"video_id\"]==i]\n",
    "    print(accuracy_score(test[\"gt_labels\"],test[\"pred_labels\"]))"
   ]
  },
  {
   "cell_type": "code",
   "execution_count": 14,
   "metadata": {},
   "outputs": [
    {
     "data": {
      "text/plain": [
       "0.4991922455573506"
      ]
     },
     "execution_count": 14,
     "metadata": {},
     "output_type": "execute_result"
    }
   ],
   "source": []
  },
  {
   "cell_type": "code",
   "execution_count": 4,
   "metadata": {},
   "outputs": [],
   "source": [
    "test01 = pd.read_csv(\"/home/lxj/project/surgplan/LUO/test_only/r_tridet/TriDet/2024-02-01-07-09-42_result/result_real_time_test01.mp4.csv\")"
   ]
  },
  {
   "cell_type": "code",
   "execution_count": 37,
   "metadata": {},
   "outputs": [],
   "source": [
    "test03 = pd.read_csv(\"/data/disk/LUO/test_only/r_tridet/TriDet/2024-02-01-07-09-42_result/result_real_time_test03.mp4.csv\")"
   ]
  },
  {
   "cell_type": "code",
   "execution_count": 36,
   "metadata": {},
   "outputs": [
    {
     "name": "stdout",
     "output_type": "stream",
     "text": [
      "0.8461538461538461\n"
     ]
    }
   ],
   "source": [
    "print(accuracy_score(test01[\"gt_labels\"][:13],test01[\"pred_labels\"][-13:]))"
   ]
  },
  {
   "cell_type": "code",
   "execution_count": 38,
   "metadata": {},
   "outputs": [
    {
     "name": "stdout",
     "output_type": "stream",
     "text": [
      "0.8588469184890656\n"
     ]
    }
   ],
   "source": [
    "print(accuracy_score(test03[\"gt_labels\"][:],test03[\"pred_labels\"][:]))"
   ]
  }
 ],
 "metadata": {
  "kernelspec": {
   "display_name": "tridet",
   "language": "python",
   "name": "python3"
  },
  "language_info": {
   "codemirror_mode": {
    "name": "ipython",
    "version": 3
   },
   "file_extension": ".py",
   "mimetype": "text/x-python",
   "name": "python",
   "nbconvert_exporter": "python",
   "pygments_lexer": "ipython3",
   "version": "3.10.13"
  }
 },
 "nbformat": 4,
 "nbformat_minor": 2
}
